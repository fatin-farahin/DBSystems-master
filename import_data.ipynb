{
 "cells": [
  {
   "cell_type": "code",
   "execution_count": 1,
   "metadata": {},
   "outputs": [],
   "source": [
    "import pandas as pd\n",
    "import pymongo\n",
    "from pymongo import MongoClient"
   ]
  },
  {
   "cell_type": "code",
   "execution_count": 2,
   "metadata": {},
   "outputs": [
    {
     "name": "stdout",
     "output_type": "stream",
     "text": [
      "Empty DataFrame\n",
      "Columns: [user_id, username, email, password_hashed, bio, profile_pic, date_joined, dietary_id]\n",
      "Index: []\n"
     ]
    },
    {
     "name": "stderr",
     "output_type": "stream",
     "text": [
      "C:\\Users\\Fatin Farahin\\AppData\\Local\\Temp\\ipykernel_21484\\609424251.py:18: FutureWarning: A value is trying to be set on a copy of a DataFrame or Series through chained assignment using an inplace method.\n",
      "The behavior will change in pandas 3.0. This inplace method will never work because the intermediate object on which we are setting values always behaves as a copy.\n",
      "\n",
      "For example, when doing 'df[col].method(value, inplace=True)', try using 'df.method({col: value}, inplace=True)' or df[col] = df[col].method(value) instead, to perform the operation inplace on the original object.\n",
      "\n",
      "\n",
      "  users_df['date_joined'].fillna(pd.Timestamp('2024-01-01'), inplace=True)\n"
     ]
    }
   ],
   "source": [
    "# Connect to MongoDB\n",
    "client = MongoClient('mongodb://localhost:27017/')\n",
    "db = client['inf2003_db']  # Name of the database\n",
    "\n",
    "# Read data from Excel file (Dataset.xlsx)\n",
    "users_df = pd.read_excel('Dataset.xlsx', sheet_name='Users', parse_dates=['date_joined'])\n",
    "recipes_df = pd.read_excel('Dataset.xlsx', sheet_name='Recipes')\n",
    "recipe_info_df = pd.read_excel('Dataset.xlsx', sheet_name='Recipe_Info')\n",
    "recipe_ratings_df = pd.read_excel('Dataset.xlsx', sheet_name='Recipe_Ratings')\n",
    "cuisines_df = pd.read_excel('Dataset.xlsx', sheet_name='Cuisines')\n",
    "dietary_df = pd.read_excel('Dataset.xlsx', sheet_name='Dietary')\n",
    "favorites_df = pd.read_excel('Dataset.xlsx', sheet_name='Favorite')\n",
    "\n",
    "# Ensure any invalid or missing dates are handled properly\n",
    "users_df['date_joined'] = pd.to_datetime(users_df['date_joined'], errors='coerce')\n",
    "\n",
    "# Fill missing dates with a default date\n",
    "users_df['date_joined'].fillna(pd.Timestamp('2024-01-01'), inplace=True)\n",
    "\n",
    "# Get rows where 'date_joined' is missing\n",
    "missing_date_joined_rows = users_df[users_df['date_joined'].isna()]\n",
    "print(missing_date_joined_rows)"
   ]
  },
  {
   "cell_type": "code",
   "execution_count": 3,
   "metadata": {},
   "outputs": [],
   "source": [
    "# Function to insert data into MongoDB dynamically\n",
    "def insert_data_from_df(collection_name, df):\n",
    "    \"\"\"Inserts data from a DataFrame into MongoDB collection.\"\"\"\n",
    "    data_dict = df.to_dict(orient='records')  # Convert DataFrame to dict\n",
    "    db[collection_name].insert_many(data_dict)  # Insert into MongoDB\n",
    "\n",
    "# Insert data dynamically into corresponding collections\n",
    "insert_data_from_df('users', users_df)\n",
    "insert_data_from_df('recipes', recipes_df)\n",
    "insert_data_from_df('recipe_info', recipe_info_df)\n",
    "insert_data_from_df('recipe_ratings', recipe_ratings_df)\n",
    "insert_data_from_df('cuisines', cuisines_df)\n",
    "insert_data_from_df('dietary', dietary_df)\n",
    "insert_data_from_df('favorites', favorites_df)"
   ]
  },
  {
   "cell_type": "code",
   "execution_count": 4,
   "metadata": {},
   "outputs": [
    {
     "name": "stdout",
     "output_type": "stream",
     "text": [
      "{'_id': ObjectId('6749465960578d884be9ebe0'), 'user_id': 1, 'username': 'AliceSmith', 'email': 'AliceSmith@gmail.com', 'password_hashed': 'ef92b778bafe771e89245b89ecbc08a44a4e166c06659911881f383d4473e94f', 'bio': 'Hey, I’m Alice, a self-proclaimed pasta enthusiast! From traditional Italian\\ndishes to experimenting with fusion recipes, I love creating and sharing pasta magic in my kitchen. Every meal is an opportunity to indulge and create memories with food!', 'profile_pic': 'pexels-olly-3769999.jpg', 'date_joined': datetime.datetime(2024, 1, 1, 0, 0), 'dietary_id': 1.0}\n",
      "{'_id': ObjectId('6749465960578d884be9ebe1'), 'user_id': 2, 'username': 'BobJohnson', 'email': 'bobjohnson@hotmail.com', 'password_hashed': 'ef92b778bafe771e89245b89ecbc08a44a4e166c06659911881f383d4473e94f', 'bio': 'BBQ is my thing. Whether it’s a summer cookout or a cozy winter meal, \\nyou’ll always find me perfecting the grill.', 'profile_pic': 'BobJohnson.jpg', 'date_joined': datetime.datetime(2024, 1, 1, 0, 0), 'dietary_id': 2.0}\n",
      "{'_id': ObjectId('6749465960578d884be9ebe2'), 'user_id': 3, 'username': 'CharlieBrown', 'email': 'charliebrown@gmail.com', 'password_hashed': 'ef92b778bafe771e89245b89ecbc08a44a4e166c06659911881f383d4473e94f', 'bio': 'I love recreating my childhood favorites with a twist – it’s all about nostalgia on a plate.', 'profile_pic': 'CharlieBrown.jpg', 'date_joined': datetime.datetime(2024, 1, 1, 0, 0), 'dietary_id': 3.0}\n",
      "{'_id': ObjectId('6749465960578d884be9ebe3'), 'user_id': 4, 'username': 'DianaPrince', 'email': 'dianaprince@gmail.com', 'password_hashed': 'ef92b778bafe771e89245b89ecbc08a44a4e166c06659911881f383d4473e94f', 'bio': 'Hi there, I’m Diana! Healthy eating doesn’t have to be boring, and that’s what I aim to\\nprove with every recipe I make.', 'profile_pic': 'DianaPrince.jpg', 'date_joined': datetime.datetime(2024, 1, 1, 0, 0), 'dietary_id': 3.0}\n",
      "{'_id': ObjectId('6749465960578d884be9ebe4'), 'user_id': 5, 'username': 'EthanHunt', 'email': 'ethanhunt@gmail.com', 'password_hashed': 'ef92b778bafe771e89245b89ecbc08a44a4e166c06659911881f383d4473e94f', 'bio': nan, 'profile_pic': 'EthanHunt.jpg', 'date_joined': datetime.datetime(2024, 1, 1, 0, 0), 'dietary_id': 8.0}\n"
     ]
    }
   ],
   "source": [
    "# Check if the data is inserted correctly by querying the collection\n",
    "users = db['users'].find().limit(5)  # Fetch the first 5 records\n",
    "for user in users:\n",
    "    print(user)"
   ]
  },
  {
   "cell_type": "code",
   "execution_count": 5,
   "metadata": {},
   "outputs": [
    {
     "name": "stdout",
     "output_type": "stream",
     "text": [
      "Connected to MongoDB!\n"
     ]
    }
   ],
   "source": [
    "# Import necessary libraries\n",
    "from db_connection import connect_db\n",
    "\n",
    "# Connect to MongoDB\n",
    "db = connect_db()\n",
    "recipes_collection = db['recipes']\n",
    "\n",
    "print(\"Connected to MongoDB!\")"
   ]
  },
  {
   "cell_type": "code",
   "execution_count": 6,
   "metadata": {},
   "outputs": [
    {
     "name": "stdout",
     "output_type": "stream",
     "text": [
      "Missing file mappings loaded.\n"
     ]
    }
   ],
   "source": [
    "# Define the missing file mappings\n",
    "missing_file_mapping = {\n",
    "    \"lemon-meringue-cheesecake\": \"LemonMeringueCake.jpg\",\n",
    "    \"peach-muffins\": \"PeachMuffins.jpg\",\n",
    "    \"sour-cream-pear-pie\": \"SourCreamPearPie.jpg\",\n",
    "    \"apple-pear-sauce\": \"ApplePearSauce.jpg\",\n",
    "    \"salmon-with-pomegranate-glaze\": \"SalmonPomegranate.jpg\",\n",
    "    \"banana-chocolate-chip-cookies\": \"BananaChocoCookies.jpg\",\n",
    "    \"lemon-pretzel-salad-with-mango-and-kiwi\": \"LemonPretzelSalad.jpg\",\n",
    "    \"mango-pineapple-chutney\": \"MangoPineappleChutne.jpg\",\n",
    "    \"hawaiian-pineapple-chicken\": \"HawaiianPineappleChicken.jpg\",\n",
    "    \"avocado-toast-with-egg\": \"AvocadoToast.jpg\",\n",
    "    \"vegetarian-tortilla-soup\": \"VegetarianTortillaSoup.jpg\",\n",
    "    \"mexican-baked-fish\": \"MexicanBakedFish.jpg\",\n",
    "    \"apricot-cheesecake\": \"ApricotCheesecake.jpg\",\n",
    "    \"chococonut-chip-cookies\": \"ChococonutCookies.jpg\"\n",
    "}\n",
    "\n",
    "print(\"Missing file mappings loaded.\")"
   ]
  },
  {
   "cell_type": "code",
   "execution_count": 7,
   "metadata": {},
   "outputs": [
    {
     "name": "stdout",
     "output_type": "stream",
     "text": [
      "No image found for 'Chocolate Cake'.\n",
      "No image found for 'Apple Pie'.\n",
      "No image found for 'Cinnamon Bun'.\n",
      "No image found for 'Hot chocolate'.\n",
      "No image found for 'The Ultimate Berry Crumble'.\n",
      "No image found for 'Chocolate Crossaint'.\n",
      "No image found for 'Macarons'.\n",
      "No image found for 'Chocolate Moussesss'.\n",
      "No image found for 'Treasure Sandwich'.\n",
      "No image found for 'Popsicles'.\n",
      "No image found for 'Strawberry Shortcake'.\n",
      "No image found for 'Hainanese Chicken Rice'.\n",
      "No image found for 'New York Cheesecake'.\n",
      "No image found for 'Apple Oatmeal Crisp'.\n",
      "No image found for 'Chocolate Covered Cherry Cookies'.\n",
      "No image found for 'Fig and Onion Spread'.\n",
      "No image found for 'Fig and Honey Jam with Walnuts'.\n",
      "No image found for 'Watermelon Lemonaded'.\n",
      "No image found for 'Simple Lemon Cake'.\n",
      "Updated 'Lemon Meringue Cheesecake' with image 'LemonMeringueCake.jpg'.\n",
      "Updated 'Peach Muffins' with image 'PeachMuffins.jpg'.\n",
      "Updated 'Sour Cream Pear Pie' with image 'SourCreamPearPie.jpg'.\n",
      "Updated 'Apple Pear Sauce' with image 'ApplePearSauce.jpg'.\n",
      "Updated 'Salmon with Pomegranate Glaze' with image 'SalmonPomegranate.jpg'.\n",
      "Updated 'Banana Chocolate Chip Cookies' with image 'BananaChocoCookies.jpg'.\n",
      "Updated 'Lemon Pretzel Salad with Mango and Kiwi' with image 'LemonPretzelSalad.jpg'.\n",
      "Updated 'Mango-Pineapple Chutney' with image 'MangoPineappleChutne.jpg'.\n",
      "Updated 'Hawaiian Pineapple Chicken' with image 'HawaiianPineappleChicken.jpg'.\n",
      "Updated 'Avocado Toast with Egg' with image 'AvocadoToast.jpg'.\n",
      "Updated 'Vegetarian Tortilla Soup' with image 'VegetarianTortillaSoup.jpg'.\n",
      "Updated 'Mexican Baked Fish' with image 'MexicanBakedFish.jpg'.\n",
      "Updated 'Apricot Cheesecake' with image 'ApricotCheesecake.jpg'.\n",
      "Updated 'Chococonut Chip Cookies' with image 'ChococonutCookies.jpg'.\n"
     ]
    }
   ],
   "source": [
    "# Normalize titles and update image_src\n",
    "for recipe in recipes_collection.find():\n",
    "    normalized_title = recipe['title'].lower().replace(\" \", \"-\")\n",
    "    \n",
    "    # Update the database if a match is found\n",
    "    if normalized_title in missing_file_mapping:\n",
    "        image_src = missing_file_mapping[normalized_title]\n",
    "        recipes_collection.update_one(\n",
    "            {\"_id\": recipe[\"_id\"]},\n",
    "            {\"$set\": {\"image_src\": image_src}}\n",
    "        )\n",
    "        print(f\"Updated '{recipe['title']}' with image '{image_src}'.\")\n",
    "    else:\n",
    "        print(f\"No image found for '{recipe['title']}'.\")"
   ]
  }
 ],
 "metadata": {
  "kernelspec": {
   "display_name": "base",
   "language": "python",
   "name": "python3"
  },
  "language_info": {
   "codemirror_mode": {
    "name": "ipython",
    "version": 3
   },
   "file_extension": ".py",
   "mimetype": "text/x-python",
   "name": "python",
   "nbconvert_exporter": "python",
   "pygments_lexer": "ipython3",
   "version": "3.12.7"
  }
 },
 "nbformat": 4,
 "nbformat_minor": 2
}
