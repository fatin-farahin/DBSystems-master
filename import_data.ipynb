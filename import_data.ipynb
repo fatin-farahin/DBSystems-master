{
 "cells": [
  {
   "cell_type": "code",
   "execution_count": null,
   "metadata": {
    "vscode": {
     "languageId": "plaintext"
    }
   },
   "outputs": [],
   "source": [
    "# Import necessary libraries\n",
    "from db_connection import connect_db\n",
    "\n",
    "# Connect to MongoDB\n",
    "db = connect_db()\n",
    "recipes_collection = db['recipes']\n",
    "\n",
    "print(\"Connected to MongoDB!\")"
   ]
  },
  {
   "cell_type": "code",
   "execution_count": null,
   "metadata": {
    "vscode": {
     "languageId": "plaintext"
    }
   },
   "outputs": [],
   "source": [
    "# Define the missing file mappings\n",
    "missing_file_mapping = {\n",
    "    \"lemon-meringue-cheesecake\": \"LemonMeringueCake.jpg\",\n",
    "    \"peach-muffins\": \"PeachMuffins.jpg\",\n",
    "    \"sour-cream-pear-pie\": \"SourCreamPearPie.jpg\",\n",
    "    \"apple-pear-sauce\": \"ApplePearSauce.jpg\",\n",
    "    \"salmon-with-pomegranate-glaze\": \"SalmonPomegranate.jpg\",\n",
    "    \"banana-chocolate-chip-cookies\": \"BananaChocoCookies.jpg\",\n",
    "    \"lemon-pretzel-salad-with-mango-and-kiwi\": \"LemonPretzelSalad.jpg\",\n",
    "    \"mango-pineapple-chutney\": \"MangoPineappleChutne.jpg\",\n",
    "    \"hawaiian-pineapple-chicken\": \"HawaiianPineappleChicken.jpg\",\n",
    "    \"avocado-toast-with-egg\": \"AvocadoToast.jpg\",\n",
    "    \"vegetarian-tortilla-soup\": \"VegetarianTortillaSoup.jpg\",\n",
    "    \"mexican-baked-fish\": \"MexicanBakedFish.jpg\",\n",
    "    \"apricot-cheesecake\": \"ApricotCheesecake.jpg\",\n",
    "    \"chococonut-chip-cookies\": \"ChococonutCookies.jpg\"\n",
    "}\n",
    "\n",
    "print(\"Missing file mappings loaded.\")"
   ]
  },
  {
   "cell_type": "code",
   "execution_count": null,
   "metadata": {
    "vscode": {
     "languageId": "plaintext"
    }
   },
   "outputs": [],
   "source": [
    "# Normalize titles and update image_src\n",
    "for recipe in recipes_collection.find():\n",
    "    normalized_title = recipe['title'].lower().replace(\" \", \"-\")\n",
    "    \n",
    "    # Update the database if a match is found\n",
    "    if normalized_title in missing_file_mapping:\n",
    "        image_src = missing_file_mapping[normalized_title]\n",
    "        recipes_collection.update_one(\n",
    "            {\"_id\": recipe[\"_id\"]},\n",
    "            {\"$set\": {\"image_src\": image_src}}\n",
    "        )\n",
    "        print(f\"Updated '{recipe['title']}' with image '{image_src}'.\")\n",
    "    else:\n",
    "        print(f\"No image found for '{recipe['title']}'.\")"
   ]
  }
 ],
 "metadata": {
  "language_info": {
   "name": "python"
  }
 },
 "nbformat": 4,
 "nbformat_minor": 2
}
